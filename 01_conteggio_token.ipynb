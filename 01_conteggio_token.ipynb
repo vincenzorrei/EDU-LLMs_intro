{
 "cells": [
  {
   "cell_type": "markdown",
   "id": "8b7b55deacbd9f66",
   "metadata": {},
   "source": [
    "# Conteggio dei Token\n",
    "\n",
    "### Significato e Utilità\n",
    "\n",
    "Il conteggio dei token rappresenta un'operazione fondamentale in molteplici ambiti legati all'elaborazione del linguaggio naturale, in particolare quando si lavora con modelli di linguaggio avanzati. Le principali applicazioni includono:\n",
    "\n",
    "- **Preprocessing dei dati**: garantisce che il testo rientri nei limiti massimi di token gestibili dal modello, evitando tagli indesiderati o errori di input.\n",
    "- **Ottimizzazione del contesto**: permette di massimizzare le informazioni fornite al modello, migliorando la qualità delle risposte nei sistemi di completamento o generazione.\n",
    "- **Gestione di documenti lunghi**: agevola la suddivisione di testi estesi in segmenti compatibili con le finestre di contesto del modello.\n",
    "- **Controllo dei costi**: i costi di utilizzo delle API di molti modelli di linguaggio sono calcolati sulla base del numero di token elaborati; un conteggio accurato è quindi essenziale per la gestione e la previsione delle spese.\n",
    "- **Prompt engineering e fine-tuning**: consente di progettare prompt e dataset di addestramento efficienti e aderenti alle specifiche tecniche del modello.\n",
    "- **Compattazione di informazioni strutturate**: aiuta a sintetizzare dati complessi in una rappresentazione compatta e ottimizzata per il modello.\n",
    "- **Sviluppo di interfacce conversazionali**: rende possibile implementare limiti dinamici di lunghezza nei chatbot e nelle interfacce utente, migliorando l’usabilità e il controllo del sistema.\n",
    "\n",
    "Il conteggio dei token non è soltanto un requisito tecnico, ma una pratica strategica per il controllo, la scalabilità e la sostenibilità di qualsiasi applicazione basata su modelli di linguaggio.\n"
   ]
  },
  {
   "cell_type": "code",
   "execution_count": 13,
   "id": "initial_id",
   "metadata": {
    "ExecuteTime": {
     "end_time": "2024-10-10T15:32:11.592113Z",
     "start_time": "2024-10-10T15:32:11.569077Z"
    }
   },
   "outputs": [],
   "source": [
    "# TikToken è un tokenizer open source fornito da OpenAI\n",
    "import tiktoken  # pip install tiktoken"
   ]
  },
  {
   "cell_type": "code",
   "execution_count": 14,
   "id": "1d4e72c4f7319a1b",
   "metadata": {
    "ExecuteTime": {
     "end_time": "2024-10-10T15:32:11.992100Z",
     "start_time": "2024-10-10T15:32:11.598915Z"
    }
   },
   "outputs": [],
   "source": [
    "encoding = tiktoken.encoding_for_model(\"gpt-4o-mini\")"
   ]
  },
  {
   "cell_type": "code",
   "execution_count": 23,
   "id": "5c7e56cad02cc689",
   "metadata": {
    "ExecuteTime": {
     "end_time": "2024-10-10T15:32:12.430975Z",
     "start_time": "2024-10-10T15:32:12.425879Z"
    }
   },
   "outputs": [
    {
     "name": "stdout",
     "output_type": "stream",
     "text": [
      "16 token\n",
      "[53, 198549, 1969, 27565, 49450, 19040, 546, 5970, 198549, 1969, 27565, 3063, 47442, 12749, 5586, 13]\n"
     ]
    }
   ],
   "source": [
    "# generazione token\n",
    "encoded = encoding.encode(\"Voglio una vita spericolata.Voglio una vita come quelle dei film.\")\n",
    "\n",
    "print(len(encoded), \"token\")\n",
    "print(encoded)"
   ]
  },
  {
   "cell_type": "code",
   "execution_count": 24,
   "id": "bd126a7e",
   "metadata": {},
   "outputs": [
    {
     "name": "stdout",
     "output_type": "stream",
     "text": [
      "V/oglio/ una/ vita/ sper/icol/ata/.V/oglio/ una/ vita/ come/ quelle/ dei/ film/./"
     ]
    }
   ],
   "source": [
    "for i in encoded:\n",
    "    print(encoding.decode([i]), end=\"/\")"
   ]
  },
  {
   "cell_type": "code",
   "execution_count": 25,
   "id": "aff1e544bcac203c",
   "metadata": {
    "ExecuteTime": {
     "end_time": "2024-10-10T15:32:12.512064Z",
     "start_time": "2024-10-10T15:32:12.506632Z"
    }
   },
   "outputs": [
    {
     "data": {
      "text/plain": [
       "'Voglio una vita spericolata.Voglio una vita come quelle dei film.'"
      ]
     },
     "execution_count": 25,
     "metadata": {},
     "output_type": "execute_result"
    }
   ],
   "source": [
    "# decodifica del testo originale codificato\n",
    "encoding.decode(encoded)"
   ]
  },
  {
   "cell_type": "code",
   "execution_count": 26,
   "id": "cfa028fbf67d1a95",
   "metadata": {
    "ExecuteTime": {
     "end_time": "2024-10-10T15:32:12.660038Z",
     "start_time": "2024-10-10T15:32:12.654958Z"
    }
   },
   "outputs": [
    {
     "name": "stdout",
     "output_type": "stream",
     "text": [
      "-V___oglio___ una___ vita___ sper___icol___ata___.V___oglio___ una___ vita___ come___ quelle___ dei___ film___.___"
     ]
    }
   ],
   "source": [
    "# stampa dei singoli token\n",
    "\n",
    "print(\"-\", end=\"\")\n",
    "for tok in encoded:\n",
    "    print(encoding.decode_single_token_bytes(tok).decode(\"utf-8\") + \"___\", end=\"\")"
   ]
  }
 ],
 "metadata": {
  "kernelspec": {
   "display_name": ".venv",
   "language": "python",
   "name": "python3"
  },
  "language_info": {
   "codemirror_mode": {
    "name": "ipython",
    "version": 3
   },
   "file_extension": ".py",
   "mimetype": "text/x-python",
   "name": "python",
   "nbconvert_exporter": "python",
   "pygments_lexer": "ipython3",
   "version": "3.12.4"
  }
 },
 "nbformat": 4,
 "nbformat_minor": 5
}
