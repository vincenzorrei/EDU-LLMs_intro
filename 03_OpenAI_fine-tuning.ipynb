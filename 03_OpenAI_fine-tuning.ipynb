{
 "cells": [
  {
   "cell_type": "markdown",
   "id": "c8247dc924790656",
   "metadata": {},
   "source": [
    "# Fine-tuning di modelli su OpenAI"
   ]
  },
  {
   "cell_type": "code",
   "execution_count": 3,
   "id": "2dd493c378866803",
   "metadata": {
    "collapsed": false,
    "jupyter": {
     "outputs_hidden": false
    }
   },
   "outputs": [],
   "source": [
    "import os\n",
    "from langchain_openai import ChatOpenAI                                 # pip install langchain-openai\n",
    "import pandas as pd\n",
    "from langchain.schema import HumanMessage, SystemMessage, AIMessage     # pip install langchain\n",
    "import tiktoken\n",
    "import numpy as np\n",
    "from collections import defaultdict\n",
    "import json"
   ]
  },
  {
   "cell_type": "code",
   "execution_count": 9,
   "id": "b5dcfd1fb786d211",
   "metadata": {
    "collapsed": false,
    "jupyter": {
     "outputs_hidden": false
    }
   },
   "outputs": [
    {
     "data": {
      "text/html": [
       "<div>\n",
       "<style scoped>\n",
       "    .dataframe tbody tr th:only-of-type {\n",
       "        vertical-align: middle;\n",
       "    }\n",
       "\n",
       "    .dataframe tbody tr th {\n",
       "        vertical-align: top;\n",
       "    }\n",
       "\n",
       "    .dataframe thead th {\n",
       "        text-align: right;\n",
       "    }\n",
       "</style>\n",
       "<table border=\"1\" class=\"dataframe\">\n",
       "  <thead>\n",
       "    <tr style=\"text-align: right;\">\n",
       "      <th></th>\n",
       "      <th>User</th>\n",
       "      <th>Prompt</th>\n",
       "    </tr>\n",
       "  </thead>\n",
       "  <tbody>\n",
       "    <tr>\n",
       "      <th>0</th>\n",
       "      <td>forniscimi il prompt per generare un'immagine ...</td>\n",
       "      <td>You are a professional product photographer an...</td>\n",
       "    </tr>\n",
       "    <tr>\n",
       "      <th>1</th>\n",
       "      <td>forniscimi il prompt per generare un immagine ...</td>\n",
       "      <td>You are a professional photographer specializi...</td>\n",
       "    </tr>\n",
       "    <tr>\n",
       "      <th>2</th>\n",
       "      <td>Forniscimi il prompt per generare un'immagine ...</td>\n",
       "      <td>Please use the attached image as the base and ...</td>\n",
       "    </tr>\n",
       "    <tr>\n",
       "      <th>3</th>\n",
       "      <td>Forniscimi il prompt per generare un'immagine ...</td>\n",
       "      <td>create an extremely unremarkable iPhone selfie...</td>\n",
       "    </tr>\n",
       "    <tr>\n",
       "      <th>4</th>\n",
       "      <td>forniscimi il prompt per generare un’immagine ...</td>\n",
       "      <td>create a corporate headshot of the person in t...</td>\n",
       "    </tr>\n",
       "    <tr>\n",
       "      <th>5</th>\n",
       "      <td>crea una versione sorridente della persona in ...</td>\n",
       "      <td>create a professional business portrait of the...</td>\n",
       "    </tr>\n",
       "    <tr>\n",
       "      <th>6</th>\n",
       "      <td>rendimi la persona in allegato più giovane e d...</td>\n",
       "      <td>create a vibrant and youthful corporate portra...</td>\n",
       "    </tr>\n",
       "    <tr>\n",
       "      <th>7</th>\n",
       "      <td>trasformami la persona in allegato in un manag...</td>\n",
       "      <td>create a high-end executive portrait of the pe...</td>\n",
       "    </tr>\n",
       "    <tr>\n",
       "      <th>8</th>\n",
       "      <td>adatta la foto in allegato per un articolo su ...</td>\n",
       "      <td>create a magazine-quality financial industry p...</td>\n",
       "    </tr>\n",
       "    <tr>\n",
       "      <th>9</th>\n",
       "      <td>fammi la persona allegata in versione CEO visi...</td>\n",
       "      <td>create a visionary CEO portrait of the person ...</td>\n",
       "    </tr>\n",
       "    <tr>\n",
       "      <th>10</th>\n",
       "      <td>crea un’immagine professionale della persona a...</td>\n",
       "      <td>create a professional business portrait of the...</td>\n",
       "    </tr>\n",
       "    <tr>\n",
       "      <th>11</th>\n",
       "      <td>rendi la persona in allegato adatta per una ca...</td>\n",
       "      <td>create a dynamic tech industry campaign portra...</td>\n",
       "    </tr>\n",
       "    <tr>\n",
       "      <th>12</th>\n",
       "      <td>fai una foto formale della persona allegata pe...</td>\n",
       "      <td>create a formal institutional portrait of the ...</td>\n",
       "    </tr>\n",
       "    <tr>\n",
       "      <th>13</th>\n",
       "      <td>crea una versione elegante e rassicurante dell...</td>\n",
       "      <td>create an elegant and reassuring business port...</td>\n",
       "    </tr>\n",
       "    <tr>\n",
       "      <th>14</th>\n",
       "      <td>crea una versione ultra realistica della perso...</td>\n",
       "      <td>create a hyper-realistic portrait of the perso...</td>\n",
       "    </tr>\n",
       "  </tbody>\n",
       "</table>\n",
       "</div>"
      ],
      "text/plain": [
       "                                                 User  \\\n",
       "0   forniscimi il prompt per generare un'immagine ...   \n",
       "1   forniscimi il prompt per generare un immagine ...   \n",
       "2   Forniscimi il prompt per generare un'immagine ...   \n",
       "3   Forniscimi il prompt per generare un'immagine ...   \n",
       "4   forniscimi il prompt per generare un’immagine ...   \n",
       "5   crea una versione sorridente della persona in ...   \n",
       "6   rendimi la persona in allegato più giovane e d...   \n",
       "7   trasformami la persona in allegato in un manag...   \n",
       "8   adatta la foto in allegato per un articolo su ...   \n",
       "9   fammi la persona allegata in versione CEO visi...   \n",
       "10  crea un’immagine professionale della persona a...   \n",
       "11  rendi la persona in allegato adatta per una ca...   \n",
       "12  fai una foto formale della persona allegata pe...   \n",
       "13  crea una versione elegante e rassicurante dell...   \n",
       "14  crea una versione ultra realistica della perso...   \n",
       "\n",
       "                                               Prompt  \n",
       "0   You are a professional product photographer an...  \n",
       "1   You are a professional photographer specializi...  \n",
       "2   Please use the attached image as the base and ...  \n",
       "3   create an extremely unremarkable iPhone selfie...  \n",
       "4   create a corporate headshot of the person in t...  \n",
       "5   create a professional business portrait of the...  \n",
       "6   create a vibrant and youthful corporate portra...  \n",
       "7   create a high-end executive portrait of the pe...  \n",
       "8   create a magazine-quality financial industry p...  \n",
       "9   create a visionary CEO portrait of the person ...  \n",
       "10  create a professional business portrait of the...  \n",
       "11  create a dynamic tech industry campaign portra...  \n",
       "12  create a formal institutional portrait of the ...  \n",
       "13  create an elegant and reassuring business port...  \n",
       "14  create a hyper-realistic portrait of the perso...  "
      ]
     },
     "execution_count": 9,
     "metadata": {},
     "output_type": "execute_result"
    }
   ],
   "source": [
    "# caricamento dati\n",
    "data = pd.read_excel(\"data/fine-tuning dataset.xlsx\")                   # pip install openpyxl\n",
    "data.head(15)"
   ]
  },
  {
   "cell_type": "code",
   "execution_count": 10,
   "id": "c6ae3c0a",
   "metadata": {},
   "outputs": [
    {
     "name": "stdout",
     "output_type": "stream",
     "text": [
      "User: fammi la persona allegata in versione CEO visionario\n",
      "Prompt: create a visionary CEO portrait of the person in the provided image, strong confident gaze slightly off-camera, contemporary tailored suit, standing in a minimalistic high-rise office with floor-to-ceiling windows and city view, golden hour lighting creating a subtle halo, 16:9 wide crop, Leica SL2, 50mm f/1.4 lens, warm and inspiring color tones\n"
     ]
    }
   ],
   "source": [
    "# stampa separatamente i valori di User e di Prompt del dataset \"data\" alla riga 10\n",
    "print(\"User:\", data.iloc[9]['User'])\n",
    "print(\"Prompt:\", data.iloc[9]['Prompt'])"
   ]
  },
  {
   "cell_type": "code",
   "execution_count": 13,
   "id": "7eae190137fa581c",
   "metadata": {
    "collapsed": false,
    "jupyter": {
     "outputs_hidden": false
    }
   },
   "outputs": [],
   "source": [
    "test = []\n",
    "for idx, row in data.iterrows():\n",
    "    test.append({\n",
    "        \"messages\": [{\n",
    "            \"role\": \"system\",\n",
    "            \"content\": \"#phtrlsm#\"\n",
    "        }, {\n",
    "            \"role\": \"user\",\n",
    "            \"content\": row.values[0]\n",
    "        }, {\n",
    "            \"role\": \"assistant\",\n",
    "            \"content\": row.values[1] \n",
    "        }]\n",
    "    })"
   ]
  },
  {
   "cell_type": "code",
   "execution_count": 14,
   "id": "1823443d-582d-4f42-a220-b0a151c12f53",
   "metadata": {},
   "outputs": [
    {
     "name": "stdout",
     "output_type": "stream",
     "text": [
      "[{'messages': [{'role': 'system', 'content': '#phtrlsm#'}, {'role': 'user', 'content': \"forniscimi il prompt per generare un'immagine professionale per Pepsi\"}, {'role': 'assistant', 'content': 'You are a professional product photographer and digital image creator. Your task is to generate high-quality, visually engaging product images of Pepsi for use in marketing, advertising, and social media.\\n\\nEach image should follow these core principles:\\n\\n1. Product Focus:\\n\\nCreate realistic and detailed images featuring a Pepsi can or bottle. Ensure the Pepsi logo and design elements are prominently displayed, clear, and sharp.\\n\\n2. Background & Setting Variations:\\n\\nClean white studio background with soft shadows\\n\\n3. Lighting Setup:\\n\\nUse realistic studio lighting with soft key lights and subtle backlighting\\nAdd highlights and reflections on metallic surfaces to enhance realism\\nMaintain correct light falloff and cast soft shadows on the background\\n\\n4. Special Effects (optional but recommended):\\n\\nAdd condensation droplets to suggest coldness\\nInclude ice cubes, splashing cola, or mist/fog effects for dynamic appeal\\nFor outdoor or themed scenes, add props (e.g., beach table, branded napkin, glass with ice)\\n\\n5. Composition Details:\\n\\nProduct centered or using rule of thirds for visual interest\\nEnsure strong contrast between product and background\\nUse a shallow depth of field to keep the focus on the product\\n\\n6. Style & Output Format:\\n\\nPhoto-realistic rendering\\nAspect ratio: 4:5 (for social), 16:9 (for banner ads), and square 1:1 (for thumbnails)\\nEnsure professional quality suitable for print and digital use'}]}, {'messages': [{'role': 'system', 'content': '#phtrlsm#'}, {'role': 'user', 'content': 'forniscimi il prompt per generare un immagine modificando la foto in allegato per usarla su linkedin'}, {'role': 'assistant', 'content': 'You are a professional photographer specializing in business and corporate portraits. Please generate a high-quality of the person in the linked photo, realistic corporate headshot based on the following details:\\n\\nPose: Front-facing or 3/4 angle, with confident and approachable expression\\n\\nOutfit: Business formal (e.g., suit and tie, blazer and blouse, no flashy accessories)\\nBackground: Neutral or studio-style (e.g., light gray, white, soft gradient)\\nLighting: Soft, even lighting with no harsh shadows (classic studio setup)\\nStyle: Clean, professional, sharp focus\\nComposition: 16:9 or 4:5 ratio, head and shoulders visible, centered\\nEthnicity/Gender/Age (optional): [Include if relevant to your use case]\\nExpression: Friendly, confident, trustworthy (ideal for LinkedIn or business profiles)'}]}, {'messages': [{'role': 'system', 'content': '#phtrlsm#'}, {'role': 'user', 'content': \"Forniscimi il prompt per generare un'immagine che cambi la texture al logo mcDonald\"}, {'role': 'assistant', 'content': 'Please use the attached image as the base and transform it into a branded, seamless tileable texture inspired by the McDonald’s logo and style, following these specifications:\\n\\nTexture Type: Branded logo-based texture (McDonald’s inspired)\\n\\nColor Palette: Classic McDonald’s colors (red #DA291C, golden yellow #FFC72C, white)\\n\\nResolution: 2048x2048px\\n\\nStyle: Stylized and clean, flat with a slight embossing or 3D bevel effect\\n\\nAdditional Details:\\n\\nSubtly repeat a golden “M”-like shape across the tile, stylized for inspiration, not infringement\\n\\nEnsure seamless tiling and consistent lighting\\n\\nAdd soft shadowing or gloss for depth\\n\\nThe branding should be visible but not overwhelming\\n\\nUse the visual elements of the attached image as the foundation, integrating the requested style and color scheme. Optimize the result for digital and print applications.'}]}, {'messages': [{'role': 'system', 'content': '#phtrlsm#'}, {'role': 'user', 'content': \"Forniscimi il prompt per generare un'immagine di un selfie della persona in allegato a New York\"}, {'role': 'assistant', 'content': \"create an extremely unremarkable iPhone selfie photo of the person attached. The photo has a touch of motion blur, and mildly overexposed from uneven sunlight. The angle is awkward, the composition nonexistent, and the overall effect is aggressively mediocre—like a photo taken by accident while pulling the phone out of a pocket to take the selfie. It's of a girl in her mid 20s sitting in the outdoor seating of a random restaurant in New York City, candid, vertical 9:16 aspect ratio.\"}]}, {'messages': [{'role': 'system', 'content': '#phtrlsm#'}, {'role': 'user', 'content': 'forniscimi il prompt per generare un’immagine modificando la foto in allegato per usarla su LinkedIn'}, {'role': 'assistant', 'content': 'create a corporate headshot of the person in the provided image, front-facing with a confident and approachable expression, wearing formal business attire such as a tailored suit or blazer, set against a neutral light gray studio background with soft, even lighting, sharp focus and minimal retouching, 4:5 composition with head and shoulders visible, designed for LinkedIn profile use, Canon EOS R5, 85mm f/1.8 lens, natural color tones'}]}, {'messages': [{'role': 'system', 'content': '#phtrlsm#'}, {'role': 'user', 'content': 'crea una versione sorridente della persona in allegato per un sito aziendale'}, {'role': 'assistant', 'content': 'create a professional business portrait of the person in the uploaded image, smiling with a warm and approachable expression, dressed in business casual clothing, photographed in a modern office environment with blurred background, natural daylight illuminating the face evenly, 16:9 format focusing on upper body, Sony A7R IV, 50mm f/1.4 lens, vibrant but natural color grading'}]}, {'messages': [{'role': 'system', 'content': '#phtrlsm#'}, {'role': 'user', 'content': 'rendimi la persona in allegato più giovane e dinamica per la presentazione di una startup'}, {'role': 'assistant', 'content': 'create a vibrant and youthful corporate portrait of the person in the provided photo, subtle age reduction and energetic facial expression, dressed in smart-casual attire, photographed against a modern, bright office background with soft bokeh, dynamic pose with arms crossed or leaning forward, daylight-balanced studio lights, 3:4 composition, Canon EOS R6, 35mm f/1.4 lens, lively and fresh color palette'}]}, {'messages': [{'role': 'system', 'content': '#phtrlsm#'}, {'role': 'user', 'content': 'trasformami la persona in allegato in un manager internazionale per la homepage aziendale'}, {'role': 'assistant', 'content': 'create a high-end executive portrait of the person in the uploaded image, formal international business outfit with elegant suit and tie, standing confidently in a modern glass office environment with a cityscape visible through large windows, clean and polished look, soft natural light mixed with studio fill, medium shot with upper body visible, Nikon Z9, 70mm f/2.8 lens, cool and sophisticated color grading'}]}, {'messages': [{'role': 'system', 'content': '#phtrlsm#'}, {'role': 'user', 'content': 'adatta la foto in allegato per un articolo su una rivista finanziaria'}, {'role': 'assistant', 'content': 'create a magazine-quality financial industry portrait of the person from the attached image, posed thoughtfully with arms gently crossed, business attire, soft spotlight effect on a smooth dark gradient background, clean professional style, head-and-shoulders crop, Hasselblad X2D, 80mm f/1.9 lens, subtle contrast and editorial color grading'}]}, {'messages': [{'role': 'system', 'content': '#phtrlsm#'}, {'role': 'user', 'content': 'fammi la persona allegata in versione CEO visionario'}, {'role': 'assistant', 'content': 'create a visionary CEO portrait of the person in the provided image, strong confident gaze slightly off-camera, contemporary tailored suit, standing in a minimalistic high-rise office with floor-to-ceiling windows and city view, golden hour lighting creating a subtle halo, 16:9 wide crop, Leica SL2, 50mm f/1.4 lens, warm and inspiring color tones'}]}, {'messages': [{'role': 'system', 'content': '#phtrlsm#'}, {'role': 'user', 'content': 'crea un’immagine professionale della persona allegata con sfondo estivo all’aperto'}, {'role': 'assistant', 'content': 'create a professional business portrait of the person in the attached photo, relaxed and confident expression, business-casual outfit, set outdoors in a lush green park with soft sunlight and gentle bokeh background, 4:5 ratio, Canon EOS 5D Mark IV, 85mm f/1.2 lens, natural vibrant colors'}]}, {'messages': [{'role': 'system', 'content': '#phtrlsm#'}, {'role': 'user', 'content': 'rendi la persona in allegato adatta per una campagna pubblicitaria tech'}, {'role': 'assistant', 'content': 'create a dynamic tech industry campaign portrait of the person from the given photo, looking inspired with a subtle smile, smart-casual attire, photographed in a modern coworking space with digital screens and creative decor in the background, cool-toned lighting with a soft blue accent, medium shot with strong clarity, Fujifilm GFX100, 45mm f/2.8 lens, high-contrast and modern color grading'}]}, {'messages': [{'role': 'system', 'content': '#phtrlsm#'}, {'role': 'user', 'content': 'fai una foto formale della persona allegata per una brochure istituzionale'}, {'role': 'assistant', 'content': 'create a formal institutional portrait of the person in the attached image, composed sitting at a conference table, business suit, neutral beige or light blue wall background, soft studio lighting for even skin tones, 3:4 ratio with hands and upper body visible, Pentax 645Z, 90mm f/2.8 lens, classic and trustworthy color scheme'}]}, {'messages': [{'role': 'system', 'content': '#phtrlsm#'}, {'role': 'user', 'content': 'crea una versione elegante e rassicurante della persona allegata per la pagina “Chi siamo”'}, {'role': 'assistant', 'content': 'create an elegant and reassuring business portrait of the person in the provided photo, gentle and inviting smile, refined business attire, sitting comfortably in a modern office lounge area with warm ambient lighting, 4:5 vertical crop, Sony A1, 85mm f/1.4 lens, soft and welcoming color tones'}]}, {'messages': [{'role': 'system', 'content': '#phtrlsm#'}, {'role': 'user', 'content': 'crea una versione ultra realistica della persona in allegato con look casual, per uso personale'}, {'role': 'assistant', 'content': 'create a hyper-realistic portrait of the person in the attached photo, natural casual clothing like a plain shirt or sweater, seated in a modern living room with daylight streaming through a window, skin texture and hair details clearly visible, subtle imperfections retained for authenticity, Canon EOS R6, 50mm f/1.2 lens, true-to-life color grading and sharp focus, 4:5 crop'}]}, {'messages': [{'role': 'system', 'content': '#phtrlsm#'}, {'role': 'user', 'content': 'genera una foto della persona allegata durante una riunione di lavoro, in ufficio moderno'}, {'role': 'assistant', 'content': 'create an ultra-photorealistic candid image of the person from the uploaded picture, captured mid-discussion in a bright contemporary office meeting room, business attire, laptop and documents on the table, authentic skin tones and ambient reflections, background softly blurred, Nikon Z8, 35mm f/1.8 lens, faithful color reproduction, horizontal crop'}]}, {'messages': [{'role': 'system', 'content': '#phtrlsm#'}, {'role': 'user', 'content': 'immagine fotorealistica della persona allegata che ride spontaneamente in un bar elegante'}, {'role': 'assistant', 'content': 'create a photorealistic candid shot of the person in the attached image, laughing naturally at a stylish café table, real-life light reflections on the face and glass surfaces, dressed in smart-casual attire, background softly out of focus with authentic bar textures, Sony A7R V, 55mm f/1.8 lens, warm color grading, high detail, 3:4 format'}]}, {'messages': [{'role': 'system', 'content': '#phtrlsm#'}, {'role': 'user', 'content': 'immagine ultra realistica della persona in allegato all’aperto al tramonto, ambiente naturale'}, {'role': 'assistant', 'content': 'create an ultra-realistic outdoor portrait of the person from the given photo, standing in a meadow at golden hour, sunlight creating soft highlights in hair and on skin, casual outfit, natural environment with visible grass and distant trees, Canon 5D Mark IV, 85mm f/1.2 lens, rich color depth and true-to-life shadows, 4:5 crop'}]}, {'messages': [{'role': 'system', 'content': '#phtrlsm#'}, {'role': 'user', 'content': 'foto fotorealistica della persona allegata che lavora al computer in casa'}, {'role': 'assistant', 'content': 'create a photorealistic indoor photo of the person in the uploaded image, focused while working at a laptop on a wooden desk, realistic room lighting from a window, everyday background objects like books and a coffee mug, true skin texture and eye detail, Fuji X-T5, 35mm f/1.4 lens, no retouching, 16:9 crop'}]}, {'messages': [{'role': 'system', 'content': '#phtrlsm#'}, {'role': 'user', 'content': 'ritratto ultra realistico della persona allegata in abbigliamento sportivo, in palestra'}, {'role': 'assistant', 'content': 'create a hyper-realistic portrait of the person from the attached picture, dressed in athletic wear, inside a modern gym with visible equipment, subtle sweat on forehead, detailed muscle definition and skin pores, ambient gym lighting with natural highlights and shadows, Canon EOS R3, 85mm f/1.2 lens, vivid but true color palette, 3:4 ratio'}]}, {'messages': [{'role': 'system', 'content': '#phtrlsm#'}, {'role': 'user', 'content': 'crea una foto ultra realistica della persona allegata sotto la pioggia, in città di notte'}, {'role': 'assistant', 'content': 'create an ultra-realistic night portrait of the person in the provided photo, standing under gentle rain in a city street, water droplets visible on face and clothing, blurred neon lights and reflections on wet pavement, realistic wet hair and detailed textures, Nikon Z9, 50mm f/1.2 lens, vibrant city colors, strong contrast, 4:5 crop'}]}, {'messages': [{'role': 'system', 'content': '#phtrlsm#'}, {'role': 'user', 'content': 'immagine iper realistica della persona allegata che legge un libro su una poltrona vintage'}, {'role': 'assistant', 'content': 'create a hyper-realistic photo of the person in the attached image, reading a book in a classic vintage armchair, soft window light creating realistic skin tones and textures, visible book details and natural hand positions, background with old bookshelves and a floor lamp, Leica SL2, 75mm f/2 lens, subtle warm tones, high detail, 4:5 crop'}]}, {'messages': [{'role': 'system', 'content': '#phtrlsm#'}, {'role': 'user', 'content': 'foto ultra realistica della persona allegata seduta in auto, mattina presto'}, {'role': 'assistant', 'content': 'create a photorealistic portrait of the person from the uploaded image, sitting in the driver’s seat of a car on a misty early morning, realistic windshield reflections, soft sunlight highlighting natural skin details, car interior elements clearly defined, Canon EOS R5, 35mm f/1.8 lens, neutral color grading, 16:9 composition'}]}, {'messages': [{'role': 'system', 'content': '#phtrlsm#'}, {'role': 'user', 'content': 'crea una versione ultra realistica della persona allegata durante una passeggiata invernale in città'}, {'role': 'assistant', 'content': 'create an ultra-realistic city street photo of the person in the provided picture, walking outdoors in winter, warm coat and scarf, subtle breath vapor in cold air, realistic ambient lighting with overcast sky, snowflakes visible on hair and shoulders, authentic skin texture and clothing details, Nikon D850, 85mm f/1.8 lens, cool color tones, 4:5 crop'}]}, {'messages': [{'role': 'system', 'content': '#phtrlsm#'}, {'role': 'user', 'content': 'crea una foto super realistica della persona allegata in una cucina moderna illuminata dalla luce del mattino'}, {'role': 'assistant', 'content': 'create a refined ultra-photorealistic portrait of the person in the attached photo, standing in a contemporary kitchen bathed in soft, angled morning sunlight, realistic skin pores, slight natural shine on forehead, micro-fine hair strands illuminated by backlight, light catching in the irises and casting complex reflections, subtle color variations in the skin, natural wrinkles and micro-expressions retained, depth of field realistically transitions from sharp facial features to gentle background blur, Canon EOS R5, 50mm f/1.2 lens, lifelike color rendering, 4:5 ratio'}]}, {'messages': [{'role': 'system', 'content': '#phtrlsm#'}, {'role': 'user', 'content': 'foto iper realistica della persona allegata seduta su una panchina di legno al parco in primavera'}, {'role': 'assistant', 'content': 'create a highly refined photorealistic image of the person in the provided picture, sitting casually on a weathered wooden bench in a blooming spring park, faint imperfections on the bench and skin, tiny stray hairs visible in natural breeze, sunlight filtered through leaves casting irregular light patterns and soft shadows across face and shoulders, eyes with wet catchlights and authentic reflections, Nikon Z8, 85mm f/1.4 lens, natural color palette with vibrant green accents, focus drop-off true to lens'}]}, {'messages': [{'role': 'system', 'content': '#phtrlsm#'}, {'role': 'user', 'content': 'genera una foto realistica della persona allegata che sorride timidamente, luce soffusa'}, {'role': 'assistant', 'content': 'create a delicate, ultra-photorealistic portrait of the person in the attached image, captured with a soft, timid smile, ultra-sharp focus on natural skin texture including faint freckles and fine lines, subtle pinkness in cheeks, lip gloss realistically reflecting diffused window light, flyaway hair across forehead, realistic shadow gradient along jawline, background blurred as in a fast prime lens, Sony A7R V, 85mm f/1.4 lens, pastel color grading'}]}, {'messages': [{'role': 'system', 'content': '#phtrlsm#'}, {'role': 'user', 'content': 'immagine fotorealistica della persona allegata con capelli sciolti, in una stanza d’arte con quadri sullo sfondo'}, {'role': 'assistant', 'content': 'create an exquisitely detailed photorealistic portrait of the person from the uploaded photo, hair naturally loose and individual strands casting slight shadows on the face, positioned in an artist’s studio with authentic textured canvases and frames in soft focus, natural skin oil highlights on cheekbones and nose, background color spill subtly reflected in hair and clothes, Leica M11, 75mm f/1.25 lens, lifelike color dynamics, 4:5 ratio'}]}, {'messages': [{'role': 'system', 'content': '#phtrlsm#'}, {'role': 'user', 'content': 'foto ultra realistica della persona allegata che guarda fuori dalla finestra in una giornata di pioggia'}, {'role': 'assistant', 'content': 'create a hyper-refined, ultra-realistic image of the person in the attached image, gazing thoughtfully out a rain-speckled window, realistic water droplets and streaks on the glass with authentic distortion of background, face softly lit by cool overcast light, natural reflections on pupils, slight condensation on the window subtly blurring facial outline, individual eyelash shadows visible, Canon EOS R6, 50mm f/1.2 lens, natural cool color palette, intimate crop'}]}, {'messages': [{'role': 'system', 'content': '#phtrlsm#'}, {'role': 'user', 'content': 'genera una foto realistica della persona allegata mentre beve un caffè a un tavolino all’aperto'}, {'role': 'assistant', 'content': 'create a meticulously detailed photorealistic image of the person in the uploaded photo, mid-action sipping coffee at a sunlit outdoor café table, micro-details like lipstick mark on the cup rim, light catching minuscule droplets of steam, sunlight creating realistic color gradients on face and clothing, detailed hand veins and slight skin imperfections visible, true lens falloff in background, Sony A1, 50mm f/1.2 lens, vibrant but balanced color tones'}]}, {'messages': [{'role': 'system', 'content': '#phtrlsm#'}, {'role': 'user', 'content': 'foto ultra realistica della persona allegata che ride forte, in compagnia di amici, sera'}, {'role': 'assistant', 'content': 'create an ultra-photorealistic evening group portrait of the person from the attached photo, caught mid-laughter among friends at an outdoor table, deep skin creases, smile lines and subtle shine on teeth, realistic facial movement and tiny imperfections, eyes with warm highlights from string lights above, slight motion blur on hands, authentic skin shadow transitions, Canon EOS R3, 35mm f/1.4 lens, warm evening tones, 16:9 crop'}]}, {'messages': [{'role': 'system', 'content': '#phtrlsm#'}, {'role': 'user', 'content': 'foto realistica della persona allegata che cammina con una bicicletta al tramonto, in città'}, {'role': 'assistant', 'content': 'create a high-definition photorealistic image of the person in the attached image, walking a bicycle along a bustling urban street at sunset, sunlight reflecting on metal surfaces and subtly illuminating individual face hairs, authentic fabric folds and street dust on trousers, natural breathing condensation in cool air, background with natural lens flare and bokeh, Nikon Z9, 50mm f/1.2 lens, rich sunset color dynamics, horizontal format'}]}, {'messages': [{'role': 'system', 'content': '#phtrlsm#'}, {'role': 'user', 'content': 'ritratto fotorealistico della persona allegata con espressione seria, sfondo nero studio'}, {'role': 'assistant', 'content': 'create a hyper-photorealistic studio portrait of the person in the uploaded photo, composed with a neutral serious expression, every detail of skin pores, faint facial hairs, tiny scars and texture preserved, subtle subsurface scattering on ears and nose, deep catchlights in the eyes, classic softbox lighting with smooth gradient shadows, matte black seamless backdrop, Hasselblad X2D, 80mm f/1.9 lens, high-fidelity color accuracy, 4:5 crop'}]}, {'messages': [{'role': 'system', 'content': '#phtrlsm#'}, {'role': 'user', 'content': 'immagine ultra realistica della persona allegata seduta su un divano in tessuto, luce dorata del pomeriggio'}, {'role': 'assistant', 'content': 'create an ultra-photorealistic, highly refined portrait of the person from the attached photo, sitting comfortably on a textured fabric sofa, soft afternoon golden sunlight filtering through a nearby window, micro-texture of fabric and skin clearly visible, subtle shadow patterns on clothing and face, natural creases in posture and clothing, eyes with realistic color shifts in the iris, Leica SL2, 50mm f/1.4 lens, warm and natural color palette, vertical crop'}]}, {'messages': [{'role': 'system', 'content': '#phtrlsm#'}, {'role': 'user', 'content': 'crea una foto retrò della persona allegata seduta su una poltrona'}, {'role': 'assistant', 'content': 'create a highly realistic retro portrait of the person in the attached photo, seated on a velvet armchair in a living room with vintage wallpaper, 1970s style, wearing period-appropriate clothing such as a patterned shirt and slacks, warm color grading with subtle fading, visible film grain, slight vignette, and small scratches or dust marks, soft window light illuminating the face, Canon AE-1 emulation, 50mm f/1.8 lens, authentic color shift towards ochre and green'}]}, {'messages': [{'role': 'system', 'content': '#phtrlsm#'}, {'role': 'user', 'content': 'crea una foto storica della persona allegata all’aperto negli anni ’50'}, {'role': 'assistant', 'content': 'create a photorealistic 1950s-style outdoor portrait of the person in the provided image, standing in a grassy park, dressed in mid-century clothing like a wool overcoat and hat, black and white film look with true silver halide grain, soft lens blur at edges, faded contrast, and slight film scratches, light natural overexposure typical of the era, Leica M3 simulation, 90mm f/2 lens'}]}, {'messages': [{'role': 'system', 'content': '#phtrlsm#'}, {'role': 'user', 'content': 'rendi la persona allegata protagonista di una foto anni ‘80 in una sala giochi'}, {'role': 'assistant', 'content': 'create a realistic 1980s retro portrait of the person in the attached image, posing with a smile next to vintage arcade machines in a neon-lit game room, period clothing such as a pastel tracksuit or jeans and t-shirt, film-like vivid but slightly washed out colors, heavy analog noise, soft lens vignetting, tiny specks and light leaks, Canon AE-1 emulation, 35mm f/2.8 lens, magenta-blue cast'}]}, {'messages': [{'role': 'system', 'content': '#phtrlsm#'}, {'role': 'user', 'content': 'crea una foto retrò della persona allegata con un’auto d’epoca anni ‘60'}, {'role': 'assistant', 'content': 'create an ultra-realistic retro portrait of the person from the provided photo, leaning against a classic 1960s car in front of a small-town diner, period-accurate fashion such as a leather jacket and trousers, faded Kodachrome-style colors, realistic film grain, slight motion blur, color shifts towards yellow and red, vignette and edge softness, Nikon F simulation, 50mm f/1.4 lens'}]}, {'messages': [{'role': 'system', 'content': '#phtrlsm#'}, {'role': 'user', 'content': 'foto stile storico della persona allegata in una cucina anni ‘40'}, {'role': 'assistant', 'content': 'create a hyper-realistic 1940s vintage photo of the person in the attached image, busy preparing food in a retro kitchen with checkered tiles, period attire like a modest dress and apron, black and white with subtle sepia tone, visible film imperfections like scratches and tiny white specks, strong directional window light casting deep shadows, Rolleiflex TLR simulation, 80mm f/2.8 lens'}]}, {'messages': [{'role': 'system', 'content': '#phtrlsm#'}, {'role': 'user', 'content': 'crea una foto retrò della persona allegata come impiegato anni ‘30 in ufficio'}, {'role': 'assistant', 'content': 'create a photorealistic 1930s-style portrait of the person in the attached picture, sitting at a heavy wooden desk with a manual typewriter and paper stacks, formal period suit and tie, monochrome with matte finish, high contrast and soft focus, slight lens distortion at the edges, visible film grain and faint dust spots, Leica IIIa simulation, 50mm f/3.5 lens'}]}, {'messages': [{'role': 'system', 'content': '#phtrlsm#'}, {'role': 'user', 'content': 'foto storica ultra realistica della persona allegata a una festa anni ‘70'}, {'role': 'assistant', 'content': 'create a highly realistic 1970s retro snapshot of the person in the provided image, dancing in a warmly lit living room at a party, vintage decor and patterned wallpaper, period clothes like bell-bottoms and colorful blouse, film color palette with yellow-red shift, heavy grain, mild motion blur, slight color fringing, Polaroid SX-70 simulation, soft square crop'}]}, {'messages': [{'role': 'system', 'content': '#phtrlsm#'}, {'role': 'user', 'content': 'rendi la persona allegata soggetto di una foto retrò in bicicletta negli anni ’20'}, {'role': 'assistant', 'content': 'create an ultra-photorealistic 1920s vintage portrait of the person from the attached photo, cycling down a cobblestone street, wearing a tweed suit and newsboy cap, sepia-toned black and white, strong grain and faded details, edge vignetting, uneven exposure typical of early cameras, glass plate photography effect, large format lens simulation'}]}, {'messages': [{'role': 'system', 'content': '#phtrlsm#'}, {'role': 'user', 'content': 'foto retrò della persona allegata in un negozio di dischi anni ‘90'}, {'role': 'assistant', 'content': 'create a highly realistic 1990s retro-style photo of the person in the provided image, browsing vinyl records in a small, cluttered record shop, casual period clothing like a band t-shirt and denim jacket, film colors with slight cyan-magenta cast, analog grain, faint light leaks, realistic dust motes visible in sunbeams, Canon EOS-1 simulation, 28mm f/2.8 lens'}]}, {'messages': [{'role': 'system', 'content': '#phtrlsm#'}, {'role': 'user', 'content': 'crea una foto storica realistica della persona allegata con la famiglia al mare negli anni ’60'}, {'role': 'assistant', 'content': 'create a true-to-life retro portrait of the person from the attached photo, smiling with family on a 1960s beach, striped bathing suits and large sunglasses, saturated but slightly faded Ektachrome colors, fine film grain, authentic lens flares and sun reflections on water, visible imperfections such as tiny white dots or hairline scratches, Pentax Spotmatic simulation, 35mm f/2.0 lens'}]}]\n"
     ]
    }
   ],
   "source": [
    "print(test)"
   ]
  },
  {
   "cell_type": "code",
   "execution_count": 15,
   "id": "e7c8b75b04aec86d",
   "metadata": {
    "collapsed": false,
    "jupyter": {
     "outputs_hidden": false
    }
   },
   "outputs": [],
   "source": [
    "# creazione di un file JSONL partendo dal nostro file Exce\n",
    "with open(\"data/phtrlsm.jsonl\", 'w') as f:\n",
    "    for item in test:\n",
    "        f.write(json.dumps(item) + \"\\n\")"
   ]
  },
  {
   "cell_type": "code",
   "execution_count": 16,
   "id": "ef1f56d35d4492b9",
   "metadata": {},
   "outputs": [
    {
     "name": "stdout",
     "output_type": "stream",
     "text": [
      "Num examples: 44\n",
      "First example:\n",
      "{'role': 'system', 'content': '#phtrlsm#'}\n",
      "{'role': 'user', 'content': \"forniscimi il prompt per generare un'immagine professionale per Pepsi\"}\n",
      "{'role': 'assistant', 'content': 'You are a professional product photographer and digital image creator. Your task is to generate high-quality, visually engaging product images of Pepsi for use in marketing, advertising, and social media.\\n\\nEach image should follow these core principles:\\n\\n1. Product Focus:\\n\\nCreate realistic and detailed images featuring a Pepsi can or bottle. Ensure the Pepsi logo and design elements are prominently displayed, clear, and sharp.\\n\\n2. Background & Setting Variations:\\n\\nClean white studio background with soft shadows\\n\\n3. Lighting Setup:\\n\\nUse realistic studio lighting with soft key lights and subtle backlighting\\nAdd highlights and reflections on metallic surfaces to enhance realism\\nMaintain correct light falloff and cast soft shadows on the background\\n\\n4. Special Effects (optional but recommended):\\n\\nAdd condensation droplets to suggest coldness\\nInclude ice cubes, splashing cola, or mist/fog effects for dynamic appeal\\nFor outdoor or themed scenes, add props (e.g., beach table, branded napkin, glass with ice)\\n\\n5. Composition Details:\\n\\nProduct centered or using rule of thirds for visual interest\\nEnsure strong contrast between product and background\\nUse a shallow depth of field to keep the focus on the product\\n\\n6. Style & Output Format:\\n\\nPhoto-realistic rendering\\nAspect ratio: 4:5 (for social), 16:9 (for banner ads), and square 1:1 (for thumbnails)\\nEnsure professional quality suitable for print and digital use'}\n"
     ]
    }
   ],
   "source": [
    "# recupero file JSONL\n",
    "data_path = \"data/phtrlsm.jsonl\"\n",
    "\n",
    "# caricamento dataset\n",
    "with open(data_path, 'r', encoding='utf-8') as f:\n",
    "    dataset = [json.loads(line) for line in f]\n",
    "\n",
    "# stampa di statistiche elementari sul dataset\n",
    "print(\"Num examples:\", len(dataset))\n",
    "print(\"First example:\")\n",
    "for message in dataset[0][\"messages\"]:\n",
    "    print(message)"
   ]
  },
  {
   "cell_type": "code",
   "execution_count": 17,
   "id": "5d70efe8d3ca42fe",
   "metadata": {},
   "outputs": [
    {
     "name": "stdout",
     "output_type": "stream",
     "text": [
      "No errors found\n"
     ]
    }
   ],
   "source": [
    "# check conformità / errori\n",
    "format_errors = defaultdict(int)\n",
    "\n",
    "for ex in dataset:\n",
    "    if not isinstance(ex, dict):\n",
    "        format_errors[\"data_type\"] += 1\n",
    "        continue\n",
    "\n",
    "    messages = ex.get(\"messages\", None)\n",
    "    if not messages:\n",
    "        format_errors[\"missing_messages_list\"] += 1\n",
    "        continue\n",
    "\n",
    "    for message in messages:\n",
    "        if \"role\" not in message or \"content\" not in message:\n",
    "            format_errors[\"message_missing_key\"] += 1\n",
    "\n",
    "        if any(k not in (\"role\", \"content\", \"name\", \"function_call\") for k in message):\n",
    "            format_errors[\"message_unrecognized_key\"] += 1\n",
    "\n",
    "        if message.get(\"role\", None) not in (\"system\", \"user\", \"assistant\", \"function\"):\n",
    "            format_errors[\"unrecognized_role\"] += 1\n",
    "\n",
    "        content = message.get(\"content\", None)\n",
    "        function_call = message.get(\"function_call\", None)\n",
    "\n",
    "        if (not content and not function_call) or not isinstance(content, str):\n",
    "            format_errors[\"missing_content\"] += 1\n",
    "\n",
    "    if not any(message.get(\"role\", None) == \"assistant\" for message in messages):\n",
    "        format_errors[\"example_missing_assistant_message\"] += 1\n",
    "\n",
    "if format_errors:\n",
    "    print(\"Found errors:\")\n",
    "    for k, v in format_errors.items():\n",
    "        print(f\"{k}: {v}\")\n",
    "else:\n",
    "    print(\"No errors found\")"
   ]
  },
  {
   "cell_type": "code",
   "execution_count": 22,
   "id": "11640f85ff673cff",
   "metadata": {
    "collapsed": false,
    "jupyter": {
     "outputs_hidden": false
    }
   },
   "outputs": [],
   "source": [
    "# funzioni per il conteggio dei token e la creazione di statistiche sul dataset\n",
    "encoding = tiktoken.get_encoding(\"cl100k_base\")\n",
    "\n",
    "def num_tokens_from_messages(messages, tokens_per_message=3, tokens_per_name=1):\n",
    "    '''\n",
    "    Durante il fine-tuning, spesso vengono utilizzati token speciali per indicare l'inizio `<|startoftext|>` \n",
    "    e la fine `<|endoftext|>` di una sequenza. Questi token aiutano il modello a comprendere meglio \n",
    "    i limiti dei dati di addestramento.\n",
    "    \n",
    "    In questo metodo `tokens_per_message` serve per considerare i 3 token utilizzati nel fine-tuning\n",
    "    per i tag di inizio e fine esempio.\n",
    "    '''\n",
    "    num_tokens = 0\n",
    "    for message in messages:\n",
    "        num_tokens += tokens_per_message  # Ogni messaggio ha un overhead fisso di tokens_per_message\n",
    "        for key, value in message.items():\n",
    "            num_tokens += len(encoding.encode(value))\n",
    "            if key == \"name\":\n",
    "                num_tokens += tokens_per_name\n",
    "    num_tokens += tokens_per_message\n",
    "    return num_tokens\n",
    "\n",
    "\n",
    "def num_assistant_tokens_from_messages(messages):\n",
    "    num_tokens = 0\n",
    "    for message in messages:\n",
    "        if message[\"role\"] == \"assistant\":\n",
    "            num_tokens += len(encoding.encode(message[\"content\"]))\n",
    "    return num_tokens\n",
    "\n",
    "\n",
    "def print_distribution(values, name):\n",
    "    print(f\"\\n#### Distribution of {name}:\")\n",
    "    print(f\"min / max: {min(values)}, {max(values)}\")\n",
    "    print(f\"mean / median: {np.mean(values)}, {np.median(values)}\")\n",
    "    print(f\"p5 / p95: {np.quantile(values, 0.1)}, {np.quantile(values, 0.9)}\")\n"
   ]
  },
  {
   "cell_type": "code",
   "execution_count": 23,
   "id": "4d3c6b83057762e6",
   "metadata": {
    "collapsed": false,
    "jupyter": {
     "outputs_hidden": false
    }
   },
   "outputs": [
    {
     "name": "stdout",
     "output_type": "stream",
     "text": [
      "Num examples missing system message: 0\n",
      "Num examples missing user message: 0\n",
      "\n",
      "#### Distribution of num_messages_per_example:\n",
      "min / max: 3, 3\n",
      "mean / median: 3.0, 3.0\n",
      "p5 / p95: 3.0, 3.0\n",
      "\n",
      "#### Distribution of num_total_tokens_per_example:\n",
      "min / max: 107, 321\n",
      "mean / median: 134.47727272727272, 123.0\n",
      "p5 / p95: 109.3, 147.0\n",
      "\n",
      "#### Distribution of num_assistant_tokens_per_example:\n",
      "min / max: 63, 284\n",
      "mean / median: 93.56818181818181, 84.5\n",
      "p5 / p95: 71.3, 103.0\n",
      "\n",
      "0 examples may be over the 4096 token limit, they will be truncated during fine-tuning\n"
     ]
    }
   ],
   "source": [
    "MAX_TOKENS_PER_EXAMPLE = 4096\n",
    "\n",
    "n_missing_system = 0\n",
    "n_missing_user = 0\n",
    "n_messages = []\n",
    "tot_tokens_per_example = []\n",
    "assistant_message_lens = []\n",
    "\n",
    "for ex in dataset:\n",
    "    messages = ex[\"messages\"]\n",
    "    if not any(message[\"role\"] == \"system\" for message in messages):\n",
    "        n_missing_system += 1\n",
    "    if not any(message[\"role\"] == \"user\" for message in messages):\n",
    "        n_missing_user += 1\n",
    "    n_messages.append(len(messages))\n",
    "    tot_tokens_per_example.append(num_tokens_from_messages(messages))\n",
    "    assistant_message_lens.append(num_assistant_tokens_from_messages(messages))\n",
    "\n",
    "print(\"Num examples missing system message:\", n_missing_system)\n",
    "print(\"Num examples missing user message:\", n_missing_user)\n",
    "print_distribution(n_messages, \"num_messages_per_example\")\n",
    "print_distribution(tot_tokens_per_example, \"num_total_tokens_per_example\")\n",
    "print_distribution(assistant_message_lens, \"num_assistant_tokens_per_example\")\n",
    "\n",
    "n_too_long = sum(l > MAX_TOKENS_PER_EXAMPLE for l in tot_tokens_per_example)\n",
    "print(f\"\\n{n_too_long} examples may be over the 4096 token limit, they will be truncated during fine-tuning\")"
   ]
  },
  {
   "cell_type": "code",
   "execution_count": 20,
   "id": "eb9fd795d0aa3681",
   "metadata": {
    "collapsed": false,
    "jupyter": {
     "outputs_hidden": false
    }
   },
   "outputs": [
    {
     "name": "stdout",
     "output_type": "stream",
     "text": [
      "Dataset has ~5917 tokens that will be charged for during training\n",
      "By default, you'll train for 15 epochs on this dataset\n",
      "By default, you'll be charged for ~88755 tokens\n"
     ]
    }
   ],
   "source": [
    "# valori di default suggeriti da OpenAI\n",
    "TARGET_EPOCHS = 15\n",
    "MIN_TARGET_EXAMPLES = 100\n",
    "MAX_TARGET_EXAMPLES = 25000\n",
    "MIN_DEFAULT_EPOCHS = 1\n",
    "MAX_DEFAULT_EPOCHS = 25\n",
    "\n",
    "n_epochs = TARGET_EPOCHS\n",
    "n_train_examples = len(dataset)\n",
    "if n_train_examples * TARGET_EPOCHS < MIN_TARGET_EXAMPLES:\n",
    "    n_epochs = min(MAX_DEFAULT_EPOCHS, MIN_TARGET_EXAMPLES // n_train_examples)\n",
    "elif n_train_examples * TARGET_EPOCHS > MAX_TARGET_EXAMPLES:\n",
    "    n_epochs = max(MIN_DEFAULT_EPOCHS, MAX_TARGET_EXAMPLES // n_train_examples)\n",
    "\n",
    "n_billing_tokens_in_dataset = sum(min(MAX_TOKENS_PER_EXAMPLE, length) for length in tot_tokens_per_example)\n",
    "print(f\"Dataset has ~{n_billing_tokens_in_dataset} tokens that will be charged for during training\")\n",
    "print(f\"By default, you'll train for {n_epochs} epochs on this dataset\")\n",
    "print(f\"By default, you'll be charged for ~{n_epochs * n_billing_tokens_in_dataset} tokens\")"
   ]
  },
  {
   "cell_type": "markdown",
   "id": "13d56cea28247d41",
   "metadata": {},
   "source": [
    "# Modello Fine-Tuned"
   ]
  },
  {
   "cell_type": "code",
   "execution_count": null,
   "id": "b2a23b86",
   "metadata": {},
   "outputs": [],
   "source": [
    "# importa dotenv e carica la chiave OpenAI\n",
    "from dotenv import load_dotenv # pip install python-dotenv\n",
    "load_dotenv()\n"
   ]
  },
  {
   "cell_type": "code",
   "execution_count": 37,
   "id": "e1b766bbc45d3ce3",
   "metadata": {
    "collapsed": false,
    "jupyter": {
     "outputs_hidden": false
    }
   },
   "outputs": [],
   "source": [
    "photorealism_model = ChatOpenAI(\n",
    "    model=\"ft:gpt-3.5-turbo-1106:personal:photorealism:BqgCFSkM\",\n",
    "    temperature=0.,\n",
    "    openai_api_key=os.getenv(\"openai_api_key\"),\n",
    "    max_tokens=1500,\n",
    "    request_timeout=35\n",
    ")"
   ]
  },
  {
   "cell_type": "code",
   "execution_count": 38,
   "id": "76ba7433dedbc0a5",
   "metadata": {
    "collapsed": false,
    "jupyter": {
     "outputs_hidden": false
    }
   },
   "outputs": [
    {
     "data": {
      "text/plain": [
       "AIMessage(content='create a 1970s professional boxer portrait from the provided photo, with a gritty, grainy film look, wearing a worn-out Everlast boxing robe, sweat and bruises visible on the face, a focused and determined expression, in a dimly lit gym, 35mm film simulation, Canon AE-1 lens simulation, 3:2 crop', additional_kwargs={'refusal': None}, response_metadata={'token_usage': {'completion_tokens': 71, 'prompt_tokens': 32, 'total_tokens': 103, 'completion_tokens_details': {'accepted_prediction_tokens': 0, 'audio_tokens': 0, 'reasoning_tokens': 0, 'rejected_prediction_tokens': 0}, 'prompt_tokens_details': {'audio_tokens': 0, 'cached_tokens': 0}}, 'model_name': 'ft:gpt-3.5-turbo-1106:personal:photorealism:BqgCFSkM', 'system_fingerprint': None, 'id': 'chatcmpl-BqgsSmz4vB1OTpaKOCbxgLae8U4Nz', 'service_tier': 'default', 'finish_reason': 'stop', 'logprobs': None}, id='run--a7b13cc1-7deb-46d4-ab64-9554fa8536a1-0', usage_metadata={'input_tokens': 32, 'output_tokens': 71, 'total_tokens': 103, 'input_token_details': {'audio': 0, 'cache_read': 0}, 'output_token_details': {'audio': 0, 'reasoning': 0}})"
      ]
     },
     "execution_count": 38,
     "metadata": {},
     "output_type": "execute_result"
    }
   ],
   "source": [
    "photorealism_model.invoke([\n",
    "    SystemMessage(\n",
    "        content=\"#phtrlsm#\"),\n",
    "    HumanMessage(\n",
    "        content=\"rendimi la persona in allegato un pugile professionista anni '70\"),\n",
    "])"
   ]
  },
  {
   "cell_type": "code",
   "execution_count": 39,
   "id": "62b1b3c0",
   "metadata": {},
   "outputs": [
    {
     "data": {
      "text/plain": [
       "AIMessage(content='create a 90s DJ persona from the provided image, wearing a colorful windbreaker, baggy jeans, and chunky sneakers, with a backwards cap and small round sunglasses, holding a vinyl record and a pair of Technics SL-1200 turntables, in a dimly lit club booth with neon lights and a haze of cigarette smoke, confident and focused expression, 90s-style film grain and color palette', additional_kwargs={'refusal': None}, response_metadata={'token_usage': {'completion_tokens': 84, 'prompt_tokens': 28, 'total_tokens': 112, 'completion_tokens_details': {'accepted_prediction_tokens': 0, 'audio_tokens': 0, 'reasoning_tokens': 0, 'rejected_prediction_tokens': 0}, 'prompt_tokens_details': {'audio_tokens': 0, 'cached_tokens': 0}}, 'model_name': 'ft:gpt-3.5-turbo-1106:personal:photorealism:BqgCFSkM', 'system_fingerprint': None, 'id': 'chatcmpl-BqhATQsQX7oiBy1HJGJjanauFCDhU', 'service_tier': 'default', 'finish_reason': 'stop', 'logprobs': None}, id='run--9114eb93-9aea-4486-8708-36705558d32a-0', usage_metadata={'input_tokens': 28, 'output_tokens': 84, 'total_tokens': 112, 'input_token_details': {'audio': 0, 'cache_read': 0}, 'output_token_details': {'audio': 0, 'reasoning': 0}})"
      ]
     },
     "execution_count": 39,
     "metadata": {},
     "output_type": "execute_result"
    }
   ],
   "source": [
    "photorealism_model.invoke([\n",
    "    SystemMessage(\n",
    "        content=\"#phtrlsm#\"),\n",
    "    HumanMessage(\n",
    "        content=\"rendimi la persona in allegato un dj anni '90\"),\n",
    "])"
   ]
  },
  {
   "cell_type": "code",
   "execution_count": 40,
   "id": "c3c6d2546a5d7e24",
   "metadata": {
    "collapsed": false,
    "jupyter": {
     "outputs_hidden": false
    }
   },
   "outputs": [
    {
     "data": {
      "text/plain": [
       "AIMessage(content=\"create a realistic selfie of the person in the attached photo, celebrating Napoli's Serie A victory, wearing a blue Napoli jersey, in a crowded street with flags and confetti, holding a smartphone at arm's length, genuine smile, warm sunlight, Vesuvius in the background, 3:4 portrait orientation\", additional_kwargs={'refusal': None}, response_metadata={'token_usage': {'completion_tokens': 62, 'prompt_tokens': 47, 'total_tokens': 109, 'completion_tokens_details': {'accepted_prediction_tokens': 0, 'audio_tokens': 0, 'reasoning_tokens': 0, 'rejected_prediction_tokens': 0}, 'prompt_tokens_details': {'audio_tokens': 0, 'cached_tokens': 0}}, 'model_name': 'ft:gpt-3.5-turbo-1106:personal:photorealism:BqgCFSkM', 'system_fingerprint': None, 'id': 'chatcmpl-BqhFOGNjZW559RHlLMefy8IXaULKd', 'service_tier': 'default', 'finish_reason': 'stop', 'logprobs': None}, id='run--8e1f5698-6d58-4422-bd9e-22ed833a5833-0', usage_metadata={'input_tokens': 47, 'output_tokens': 62, 'total_tokens': 109, 'input_token_details': {'audio': 0, 'cache_read': 0}, 'output_token_details': {'audio': 0, 'reasoning': 0}})"
      ]
     },
     "execution_count": 40,
     "metadata": {},
     "output_type": "execute_result"
    }
   ],
   "source": [
    "photorealism_model.invoke([\n",
    "    SystemMessage(\n",
    "        content=\"#phtrlsm#\"),\n",
    "    HumanMessage(\n",
    "        content=\"Forniscimi il prompt per generare un'immagine di un selfie della persona in allegato a a Napoli durante la festa scudetto\"),\n",
    "])\n"
   ]
  }
 ],
 "metadata": {
  "kernelspec": {
   "display_name": ".venv",
   "language": "python",
   "name": "python3"
  },
  "language_info": {
   "codemirror_mode": {
    "name": "ipython",
    "version": 3
   },
   "file_extension": ".py",
   "mimetype": "text/x-python",
   "name": "python",
   "nbconvert_exporter": "python",
   "pygments_lexer": "ipython3",
   "version": "3.12.4"
  }
 },
 "nbformat": 4,
 "nbformat_minor": 5
}
